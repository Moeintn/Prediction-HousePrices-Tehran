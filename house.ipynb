{
 "cells": [
  {
   "cell_type": "markdown",
   "id": "bcdc77ab",
   "metadata": {},
   "source": [
    "# start"
   ]
  },
  {
   "cell_type": "code",
   "execution_count": 2,
   "id": "5c18c640",
   "metadata": {},
   "outputs": [],
   "source": [
    "import numpy as np\n",
    "import pandas as pd\n",
    "import matplotlib.pyplot as plt\n",
    "import seaborn as sb\n",
    "%matplotlib inline"
   ]
  },
  {
   "cell_type": "markdown",
   "id": "8bd2e61b",
   "metadata": {},
   "source": [
    "### covert to int"
   ]
  },
  {
   "cell_type": "code",
   "execution_count": 3,
   "id": "3becf649",
   "metadata": {},
   "outputs": [],
   "source": [
    "def toint(value):\n",
    "    return(int(value.replace(\",\",\"\")))"
   ]
  },
  {
   "cell_type": "markdown",
   "id": "5e4929e9",
   "metadata": {},
   "source": [
    "### Read file\n",
    "convert Areas to int"
   ]
  },
  {
   "cell_type": "code",
   "execution_count": 4,
   "id": "f653cb23",
   "metadata": {},
   "outputs": [
    {
     "data": {
      "text/html": [
       "<div>\n",
       "<style scoped>\n",
       "    .dataframe tbody tr th:only-of-type {\n",
       "        vertical-align: middle;\n",
       "    }\n",
       "\n",
       "    .dataframe tbody tr th {\n",
       "        vertical-align: top;\n",
       "    }\n",
       "\n",
       "    .dataframe thead th {\n",
       "        text-align: right;\n",
       "    }\n",
       "</style>\n",
       "<table border=\"1\" class=\"dataframe\">\n",
       "  <thead>\n",
       "    <tr style=\"text-align: right;\">\n",
       "      <th></th>\n",
       "      <th>Area</th>\n",
       "      <th>Room</th>\n",
       "      <th>Parking</th>\n",
       "      <th>Warehouse</th>\n",
       "      <th>Elevator</th>\n",
       "      <th>Address</th>\n",
       "      <th>Price</th>\n",
       "      <th>Price(USD)</th>\n",
       "    </tr>\n",
       "  </thead>\n",
       "  <tbody>\n",
       "    <tr>\n",
       "      <th>0</th>\n",
       "      <td>63</td>\n",
       "      <td>1</td>\n",
       "      <td>True</td>\n",
       "      <td>True</td>\n",
       "      <td>True</td>\n",
       "      <td>Shahran</td>\n",
       "      <td>1.850000e+09</td>\n",
       "      <td>61666.67</td>\n",
       "    </tr>\n",
       "    <tr>\n",
       "      <th>1</th>\n",
       "      <td>60</td>\n",
       "      <td>1</td>\n",
       "      <td>True</td>\n",
       "      <td>True</td>\n",
       "      <td>True</td>\n",
       "      <td>Shahran</td>\n",
       "      <td>1.850000e+09</td>\n",
       "      <td>61666.67</td>\n",
       "    </tr>\n",
       "    <tr>\n",
       "      <th>2</th>\n",
       "      <td>79</td>\n",
       "      <td>2</td>\n",
       "      <td>True</td>\n",
       "      <td>True</td>\n",
       "      <td>True</td>\n",
       "      <td>Pardis</td>\n",
       "      <td>5.500000e+08</td>\n",
       "      <td>18333.33</td>\n",
       "    </tr>\n",
       "    <tr>\n",
       "      <th>3</th>\n",
       "      <td>95</td>\n",
       "      <td>2</td>\n",
       "      <td>True</td>\n",
       "      <td>True</td>\n",
       "      <td>True</td>\n",
       "      <td>Shahrake Qods</td>\n",
       "      <td>9.025000e+08</td>\n",
       "      <td>30083.33</td>\n",
       "    </tr>\n",
       "    <tr>\n",
       "      <th>4</th>\n",
       "      <td>123</td>\n",
       "      <td>2</td>\n",
       "      <td>True</td>\n",
       "      <td>True</td>\n",
       "      <td>True</td>\n",
       "      <td>Shahrake Gharb</td>\n",
       "      <td>7.000000e+09</td>\n",
       "      <td>233333.33</td>\n",
       "    </tr>\n",
       "    <tr>\n",
       "      <th>...</th>\n",
       "      <td>...</td>\n",
       "      <td>...</td>\n",
       "      <td>...</td>\n",
       "      <td>...</td>\n",
       "      <td>...</td>\n",
       "      <td>...</td>\n",
       "      <td>...</td>\n",
       "      <td>...</td>\n",
       "    </tr>\n",
       "    <tr>\n",
       "      <th>3474</th>\n",
       "      <td>86</td>\n",
       "      <td>2</td>\n",
       "      <td>True</td>\n",
       "      <td>True</td>\n",
       "      <td>True</td>\n",
       "      <td>Southern Janatabad</td>\n",
       "      <td>3.500000e+09</td>\n",
       "      <td>116666.67</td>\n",
       "    </tr>\n",
       "    <tr>\n",
       "      <th>3475</th>\n",
       "      <td>83</td>\n",
       "      <td>2</td>\n",
       "      <td>True</td>\n",
       "      <td>True</td>\n",
       "      <td>True</td>\n",
       "      <td>Niavaran</td>\n",
       "      <td>6.800000e+09</td>\n",
       "      <td>226666.67</td>\n",
       "    </tr>\n",
       "    <tr>\n",
       "      <th>3476</th>\n",
       "      <td>75</td>\n",
       "      <td>2</td>\n",
       "      <td>False</td>\n",
       "      <td>False</td>\n",
       "      <td>False</td>\n",
       "      <td>Parand</td>\n",
       "      <td>3.650000e+08</td>\n",
       "      <td>12166.67</td>\n",
       "    </tr>\n",
       "    <tr>\n",
       "      <th>3477</th>\n",
       "      <td>105</td>\n",
       "      <td>2</td>\n",
       "      <td>True</td>\n",
       "      <td>True</td>\n",
       "      <td>True</td>\n",
       "      <td>Dorous</td>\n",
       "      <td>5.600000e+09</td>\n",
       "      <td>186666.67</td>\n",
       "    </tr>\n",
       "    <tr>\n",
       "      <th>3478</th>\n",
       "      <td>82</td>\n",
       "      <td>2</td>\n",
       "      <td>False</td>\n",
       "      <td>True</td>\n",
       "      <td>True</td>\n",
       "      <td>Parand</td>\n",
       "      <td>3.600000e+08</td>\n",
       "      <td>12000.00</td>\n",
       "    </tr>\n",
       "  </tbody>\n",
       "</table>\n",
       "<p>3479 rows × 8 columns</p>\n",
       "</div>"
      ],
      "text/plain": [
       "      Area  Room  Parking  Warehouse  Elevator             Address  \\\n",
       "0       63     1     True       True      True             Shahran   \n",
       "1       60     1     True       True      True             Shahran   \n",
       "2       79     2     True       True      True              Pardis   \n",
       "3       95     2     True       True      True       Shahrake Qods   \n",
       "4      123     2     True       True      True      Shahrake Gharb   \n",
       "...    ...   ...      ...        ...       ...                 ...   \n",
       "3474    86     2     True       True      True  Southern Janatabad   \n",
       "3475    83     2     True       True      True            Niavaran   \n",
       "3476    75     2    False      False     False              Parand   \n",
       "3477   105     2     True       True      True              Dorous   \n",
       "3478    82     2    False       True      True              Parand   \n",
       "\n",
       "             Price  Price(USD)  \n",
       "0     1.850000e+09    61666.67  \n",
       "1     1.850000e+09    61666.67  \n",
       "2     5.500000e+08    18333.33  \n",
       "3     9.025000e+08    30083.33  \n",
       "4     7.000000e+09   233333.33  \n",
       "...            ...         ...  \n",
       "3474  3.500000e+09   116666.67  \n",
       "3475  6.800000e+09   226666.67  \n",
       "3476  3.650000e+08    12166.67  \n",
       "3477  5.600000e+09   186666.67  \n",
       "3478  3.600000e+08    12000.00  \n",
       "\n",
       "[3479 rows x 8 columns]"
      ]
     },
     "execution_count": 4,
     "metadata": {},
     "output_type": "execute_result"
    }
   ],
   "source": [
    "df = pd.read_csv(\"1632300362534233.csv\")\n",
    "\n",
    "for i in range(len(df[\"Area\"].values)):\n",
    "    df.loc[i,'Area'] = toint(df['Area'].values[i])\n",
    "\n",
    "\n",
    "df = df.astype({\"Area\": np.int64})\n",
    "        \n",
    "df"
   ]
  },
  {
   "cell_type": "code",
   "execution_count": 5,
   "id": "bd49c4c9",
   "metadata": {
    "scrolled": false
   },
   "outputs": [
    {
     "name": "stdout",
     "output_type": "stream",
     "text": [
      "<class 'pandas.core.frame.DataFrame'>\n",
      "RangeIndex: 3479 entries, 0 to 3478\n",
      "Data columns (total 8 columns):\n",
      " #   Column      Non-Null Count  Dtype  \n",
      "---  ------      --------------  -----  \n",
      " 0   Area        3479 non-null   int64  \n",
      " 1   Room        3479 non-null   int64  \n",
      " 2   Parking     3479 non-null   bool   \n",
      " 3   Warehouse   3479 non-null   bool   \n",
      " 4   Elevator    3479 non-null   bool   \n",
      " 5   Address     3456 non-null   object \n",
      " 6   Price       3479 non-null   float64\n",
      " 7   Price(USD)  3479 non-null   float64\n",
      "dtypes: bool(3), float64(2), int64(2), object(1)\n",
      "memory usage: 146.2+ KB\n"
     ]
    }
   ],
   "source": [
    "df.info()\n"
   ]
  },
  {
   "cell_type": "code",
   "execution_count": 7,
   "id": "8597d8a3",
   "metadata": {
    "scrolled": true
   },
   "outputs": [
    {
     "data": {
      "text/plain": [
       "<AxesSubplot:xlabel='Price(USD)', ylabel='Count'>"
      ]
     },
     "execution_count": 7,
     "metadata": {},
     "output_type": "execute_result"
    },
    {
     "data": {
      "image/png": "[encoded data removed]",
      "text/plain": [
       "<Figure size 432x288 with 1 Axes>"
      ]
     },
     "metadata": {
      "needs_background": "light"
     },
     "output_type": "display_data"
    }
   ],
   "source": [
    "sb.histplot(data=df, x=\"Price(USD)\", kde=True)"
   ]
  },
  {
   "cell_type": "code",
   "execution_count": 9,
   "id": "f0606417",
   "metadata": {},
   "outputs": [
    {
     "data": {
      "image/png": "[encoded data removed]",
      "text/plain": [
       "<Figure size 432x288 with 1 Axes>"
      ]
     },
     "metadata": {
      "needs_background": "light"
     },
     "output_type": "display_data"
    }
   ],
   "source": [
    "x_data, y_data = (df[\"Area\"].values, df[\"Price(USD)\"].values)\n",
    "plt.plot(x_data, y_data, 'ro')\n",
    "plt.ylabel('Price')\n",
    "plt.xlabel('Area')\n",
    "plt.show()"
   ]
  },
  {
   "cell_type": "markdown",
   "id": "86827d2e",
   "metadata": {},
   "source": [
    "#### Remove outliers"
   ]
  },
  {
   "cell_type": "code",
   "execution_count": 10,
   "id": "7b7162f4",
   "metadata": {
    "scrolled": true
   },
   "outputs": [
    {
     "data": {
      "text/html": [
       "<div>\n",
       "<style scoped>\n",
       "    .dataframe tbody tr th:only-of-type {\n",
       "        vertical-align: middle;\n",
       "    }\n",
       "\n",
       "    .dataframe tbody tr th {\n",
       "        vertical-align: top;\n",
       "    }\n",
       "\n",
       "    .dataframe thead th {\n",
       "        text-align: right;\n",
       "    }\n",
       "</style>\n",
       "<table border=\"1\" class=\"dataframe\">\n",
       "  <thead>\n",
       "    <tr style=\"text-align: right;\">\n",
       "      <th></th>\n",
       "      <th>Area</th>\n",
       "      <th>Room</th>\n",
       "      <th>Parking</th>\n",
       "      <th>Warehouse</th>\n",
       "      <th>Elevator</th>\n",
       "      <th>Address</th>\n",
       "      <th>Price</th>\n",
       "      <th>Price(USD)</th>\n",
       "    </tr>\n",
       "  </thead>\n",
       "  <tbody>\n",
       "    <tr>\n",
       "      <th>0</th>\n",
       "      <td>63</td>\n",
       "      <td>1</td>\n",
       "      <td>True</td>\n",
       "      <td>True</td>\n",
       "      <td>True</td>\n",
       "      <td>Shahran</td>\n",
       "      <td>1.850000e+09</td>\n",
       "      <td>61666.67</td>\n",
       "    </tr>\n",
       "    <tr>\n",
       "      <th>1</th>\n",
       "      <td>60</td>\n",
       "      <td>1</td>\n",
       "      <td>True</td>\n",
       "      <td>True</td>\n",
       "      <td>True</td>\n",
       "      <td>Shahran</td>\n",
       "      <td>1.850000e+09</td>\n",
       "      <td>61666.67</td>\n",
       "    </tr>\n",
       "    <tr>\n",
       "      <th>2</th>\n",
       "      <td>79</td>\n",
       "      <td>2</td>\n",
       "      <td>True</td>\n",
       "      <td>True</td>\n",
       "      <td>True</td>\n",
       "      <td>Pardis</td>\n",
       "      <td>5.500000e+08</td>\n",
       "      <td>18333.33</td>\n",
       "    </tr>\n",
       "    <tr>\n",
       "      <th>3</th>\n",
       "      <td>95</td>\n",
       "      <td>2</td>\n",
       "      <td>True</td>\n",
       "      <td>True</td>\n",
       "      <td>True</td>\n",
       "      <td>Shahrake Qods</td>\n",
       "      <td>9.025000e+08</td>\n",
       "      <td>30083.33</td>\n",
       "    </tr>\n",
       "    <tr>\n",
       "      <th>5</th>\n",
       "      <td>70</td>\n",
       "      <td>2</td>\n",
       "      <td>True</td>\n",
       "      <td>True</td>\n",
       "      <td>False</td>\n",
       "      <td>North Program Organization</td>\n",
       "      <td>2.050000e+09</td>\n",
       "      <td>68333.33</td>\n",
       "    </tr>\n",
       "    <tr>\n",
       "      <th>6</th>\n",
       "      <td>87</td>\n",
       "      <td>2</td>\n",
       "      <td>True</td>\n",
       "      <td>True</td>\n",
       "      <td>True</td>\n",
       "      <td>Pardis</td>\n",
       "      <td>6.000000e+08</td>\n",
       "      <td>20000.00</td>\n",
       "    </tr>\n",
       "    <tr>\n",
       "      <th>7</th>\n",
       "      <td>59</td>\n",
       "      <td>1</td>\n",
       "      <td>True</td>\n",
       "      <td>True</td>\n",
       "      <td>True</td>\n",
       "      <td>Shahran</td>\n",
       "      <td>2.150000e+09</td>\n",
       "      <td>71666.67</td>\n",
       "    </tr>\n",
       "    <tr>\n",
       "      <th>8</th>\n",
       "      <td>54</td>\n",
       "      <td>2</td>\n",
       "      <td>True</td>\n",
       "      <td>True</td>\n",
       "      <td>False</td>\n",
       "      <td>Andisheh</td>\n",
       "      <td>4.930000e+08</td>\n",
       "      <td>16433.33</td>\n",
       "    </tr>\n",
       "    <tr>\n",
       "      <th>9</th>\n",
       "      <td>71</td>\n",
       "      <td>1</td>\n",
       "      <td>True</td>\n",
       "      <td>True</td>\n",
       "      <td>True</td>\n",
       "      <td>West Ferdows Boulevard</td>\n",
       "      <td>2.370000e+09</td>\n",
       "      <td>79000.00</td>\n",
       "    </tr>\n",
       "  </tbody>\n",
       "</table>\n",
       "</div>"
      ],
      "text/plain": [
       "   Area  Room  Parking  Warehouse  Elevator                     Address  \\\n",
       "0    63     1     True       True      True                     Shahran   \n",
       "1    60     1     True       True      True                     Shahran   \n",
       "2    79     2     True       True      True                      Pardis   \n",
       "3    95     2     True       True      True               Shahrake Qods   \n",
       "5    70     2     True       True     False  North Program Organization   \n",
       "6    87     2     True       True      True                      Pardis   \n",
       "7    59     1     True       True      True                     Shahran   \n",
       "8    54     2     True       True     False                    Andisheh   \n",
       "9    71     1     True       True      True      West Ferdows Boulevard   \n",
       "\n",
       "          Price  Price(USD)  \n",
       "0  1.850000e+09    61666.67  \n",
       "1  1.850000e+09    61666.67  \n",
       "2  5.500000e+08    18333.33  \n",
       "3  9.025000e+08    30083.33  \n",
       "5  2.050000e+09    68333.33  \n",
       "6  6.000000e+08    20000.00  \n",
       "7  2.150000e+09    71666.67  \n",
       "8  4.930000e+08    16433.33  \n",
       "9  2.370000e+09    79000.00  "
      ]
     },
     "execution_count": 10,
     "metadata": {},
     "output_type": "execute_result"
    }
   ],
   "source": [
    "cdf = df[['Area','Room','Parking','Warehouse','Elevator', 'Address','Price','Price(USD)']]\n",
    "msk_ = df[\"Area\"].values <= int(np.quantile(df[\"Area\"],0.75))\n",
    "mainData = cdf[msk_]\n",
    "mainData.head(9)"
   ]
  },
  {
   "cell_type": "code",
   "execution_count": 11,
   "id": "ba45bad1",
   "metadata": {},
   "outputs": [
    {
     "data": {
      "image/png": "[encoded data removed]",
      "text/plain": [
       "<Figure size 432x288 with 1 Axes>"
      ]
     },
     "metadata": {
      "needs_background": "light"
     },
     "output_type": "display_data"
    }
   ],
   "source": [
    "x_data, y_data = (mainData[\"Area\"].values, mainData[\"Price(USD)\"].values)\n",
    "xdata = x_data/max(x_data)\n",
    "ydata = y_data/max(y_data)\n",
    "plt.plot(xdata, ydata, 'ro')\n",
    "plt.ylabel('Price')\n",
    "plt.xlabel('Area')\n",
    "plt.show()"
   ]
  },
  {
   "cell_type": "code",
   "execution_count": 12,
   "id": "02264634",
   "metadata": {
    "scrolled": true
   },
   "outputs": [
    {
     "name": "stdout",
     "output_type": "stream",
     "text": [
      "[176.]\n",
      "2613\n",
      "2613\n"
     ]
    },
    {
     "data": {
      "text/html": [
       "<div>\n",
       "<style scoped>\n",
       "    .dataframe tbody tr th:only-of-type {\n",
       "        vertical-align: middle;\n",
       "    }\n",
       "\n",
       "    .dataframe tbody tr th {\n",
       "        vertical-align: top;\n",
       "    }\n",
       "\n",
       "    .dataframe thead th {\n",
       "        text-align: right;\n",
       "    }\n",
       "</style>\n",
       "<table border=\"1\" class=\"dataframe\">\n",
       "  <thead>\n",
       "    <tr style=\"text-align: right;\">\n",
       "      <th></th>\n",
       "      <th>Area</th>\n",
       "      <th>Room</th>\n",
       "      <th>Parking</th>\n",
       "      <th>Warehouse</th>\n",
       "      <th>Elevator</th>\n",
       "      <th>Address</th>\n",
       "      <th>Price</th>\n",
       "      <th>Price(USD)</th>\n",
       "      <th>Address_Encode</th>\n",
       "    </tr>\n",
       "  </thead>\n",
       "  <tbody>\n",
       "    <tr>\n",
       "      <th>0</th>\n",
       "      <td>63</td>\n",
       "      <td>1</td>\n",
       "      <td>True</td>\n",
       "      <td>True</td>\n",
       "      <td>True</td>\n",
       "      <td>Shahran</td>\n",
       "      <td>1.850000e+09</td>\n",
       "      <td>61666.67</td>\n",
       "      <td>108</td>\n",
       "    </tr>\n",
       "    <tr>\n",
       "      <th>1</th>\n",
       "      <td>60</td>\n",
       "      <td>1</td>\n",
       "      <td>True</td>\n",
       "      <td>True</td>\n",
       "      <td>True</td>\n",
       "      <td>Shahran</td>\n",
       "      <td>1.850000e+09</td>\n",
       "      <td>61666.67</td>\n",
       "      <td>108</td>\n",
       "    </tr>\n",
       "    <tr>\n",
       "      <th>2</th>\n",
       "      <td>79</td>\n",
       "      <td>2</td>\n",
       "      <td>True</td>\n",
       "      <td>True</td>\n",
       "      <td>True</td>\n",
       "      <td>Pardis</td>\n",
       "      <td>5.500000e+08</td>\n",
       "      <td>18333.33</td>\n",
       "      <td>16</td>\n",
       "    </tr>\n",
       "    <tr>\n",
       "      <th>3</th>\n",
       "      <td>95</td>\n",
       "      <td>2</td>\n",
       "      <td>True</td>\n",
       "      <td>True</td>\n",
       "      <td>True</td>\n",
       "      <td>Shahrake Qods</td>\n",
       "      <td>9.025000e+08</td>\n",
       "      <td>30083.33</td>\n",
       "      <td>24</td>\n",
       "    </tr>\n",
       "    <tr>\n",
       "      <th>5</th>\n",
       "      <td>70</td>\n",
       "      <td>2</td>\n",
       "      <td>True</td>\n",
       "      <td>True</td>\n",
       "      <td>False</td>\n",
       "      <td>North Program Organization</td>\n",
       "      <td>2.050000e+09</td>\n",
       "      <td>68333.33</td>\n",
       "      <td>128</td>\n",
       "    </tr>\n",
       "    <tr>\n",
       "      <th>...</th>\n",
       "      <td>...</td>\n",
       "      <td>...</td>\n",
       "      <td>...</td>\n",
       "      <td>...</td>\n",
       "      <td>...</td>\n",
       "      <td>...</td>\n",
       "      <td>...</td>\n",
       "      <td>...</td>\n",
       "      <td>...</td>\n",
       "    </tr>\n",
       "    <tr>\n",
       "      <th>3474</th>\n",
       "      <td>86</td>\n",
       "      <td>2</td>\n",
       "      <td>True</td>\n",
       "      <td>True</td>\n",
       "      <td>True</td>\n",
       "      <td>Southern Janatabad</td>\n",
       "      <td>3.500000e+09</td>\n",
       "      <td>116666.67</td>\n",
       "      <td>115</td>\n",
       "    </tr>\n",
       "    <tr>\n",
       "      <th>3475</th>\n",
       "      <td>83</td>\n",
       "      <td>2</td>\n",
       "      <td>True</td>\n",
       "      <td>True</td>\n",
       "      <td>True</td>\n",
       "      <td>Niavaran</td>\n",
       "      <td>6.800000e+09</td>\n",
       "      <td>226666.67</td>\n",
       "      <td>170</td>\n",
       "    </tr>\n",
       "    <tr>\n",
       "      <th>3476</th>\n",
       "      <td>75</td>\n",
       "      <td>2</td>\n",
       "      <td>False</td>\n",
       "      <td>False</td>\n",
       "      <td>False</td>\n",
       "      <td>Parand</td>\n",
       "      <td>3.650000e+08</td>\n",
       "      <td>12166.67</td>\n",
       "      <td>5</td>\n",
       "    </tr>\n",
       "    <tr>\n",
       "      <th>3477</th>\n",
       "      <td>105</td>\n",
       "      <td>2</td>\n",
       "      <td>True</td>\n",
       "      <td>True</td>\n",
       "      <td>True</td>\n",
       "      <td>Dorous</td>\n",
       "      <td>5.600000e+09</td>\n",
       "      <td>186666.67</td>\n",
       "      <td>145</td>\n",
       "    </tr>\n",
       "    <tr>\n",
       "      <th>3478</th>\n",
       "      <td>82</td>\n",
       "      <td>2</td>\n",
       "      <td>False</td>\n",
       "      <td>True</td>\n",
       "      <td>True</td>\n",
       "      <td>Parand</td>\n",
       "      <td>3.600000e+08</td>\n",
       "      <td>12000.00</td>\n",
       "      <td>5</td>\n",
       "    </tr>\n",
       "  </tbody>\n",
       "</table>\n",
       "<p>2613 rows × 9 columns</p>\n",
       "</div>"
      ],
      "text/plain": [
       "      Area  Room  Parking  Warehouse  Elevator                     Address  \\\n",
       "0       63     1     True       True      True                     Shahran   \n",
       "1       60     1     True       True      True                     Shahran   \n",
       "2       79     2     True       True      True                      Pardis   \n",
       "3       95     2     True       True      True               Shahrake Qods   \n",
       "5       70     2     True       True     False  North Program Organization   \n",
       "...    ...   ...      ...        ...       ...                         ...   \n",
       "3474    86     2     True       True      True          Southern Janatabad   \n",
       "3475    83     2     True       True      True                    Niavaran   \n",
       "3476    75     2    False      False     False                      Parand   \n",
       "3477   105     2     True       True      True                      Dorous   \n",
       "3478    82     2    False       True      True                      Parand   \n",
       "\n",
       "             Price  Price(USD)  Address_Encode  \n",
       "0     1.850000e+09    61666.67             108  \n",
       "1     1.850000e+09    61666.67             108  \n",
       "2     5.500000e+08    18333.33              16  \n",
       "3     9.025000e+08    30083.33              24  \n",
       "5     2.050000e+09    68333.33             128  \n",
       "...            ...         ...             ...  \n",
       "3474  3.500000e+09   116666.67             115  \n",
       "3475  6.800000e+09   226666.67             170  \n",
       "3476  3.650000e+08    12166.67               5  \n",
       "3477  5.600000e+09   186666.67             145  \n",
       "3478  3.600000e+08    12000.00               5  \n",
       "\n",
       "[2613 rows x 9 columns]"
      ]
     },
     "execution_count": 12,
     "metadata": {},
     "output_type": "execute_result"
    }
   ],
   "source": [
    "from sklearn.preprocessing import OrdinalEncoder\n",
    "\n",
    "addr = ['Malard',\n",
    " 'Robat Karim',\n",
    " 'Pishva',\n",
    " 'Nasim Shahr',\n",
    " 'Shahedshahr',\n",
    " 'Parand',\n",
    " 'Firoozkooh',\n",
    " 'Hassan Abad',\n",
    " 'Vahidiyeh',\n",
    " 'Pakdasht',\n",
    " 'Baghestan',\n",
    " 'Shahrake Quds',\n",
    " 'Naziabad',\n",
    " 'Ghiyamdasht',\n",
    " 'Alborz Complex',\n",
    " 'Khavaran',\n",
    " 'Pardis',\n",
    " 'Salehabad',\n",
    " 'Firoozkooh Kuhsar',\n",
    " 'Telecommunication',\n",
    " 'Chahardangeh',\n",
    " 'Shahrake Madaen',\n",
    " 'Thirteen November',\n",
    " 'Baqershahr',\n",
    " 'Shahrake Qods',\n",
    " 'Northern Chitgar',\n",
    " 'Nezamabad',\n",
    " 'Pakdasht KhatunAbad',\n",
    " 'Aliabad South',\n",
    " 'Southern Chitgar',\n",
    " 'Andisheh',\n",
    " 'Shahryar',\n",
    " 'Kahrizak',\n",
    " 'Shadabad',\n",
    " 'Qarchak',\n",
    " 'Safadasht',\n",
    " 'Ray - Pilgosh',\n",
    " 'Yakhchiabad',\n",
    " 'Islamshahr',\n",
    " 'Fallah',\n",
    " 'Shoosh',\n",
    " 'Beryanak',\n",
    " 'Damavand',\n",
    " 'Dolatabad',\n",
    " 'Ahang',\n",
    " 'Vahidieh',\n",
    " 'Waterfall',\n",
    " 'Komeil',\n",
    " 'Atabak',\n",
    " 'Karoon',\n",
    " 'Bahar',\n",
    " 'Rudhen',\n",
    " 'Ray - Montazeri',\n",
    " 'Yaftabad',\n",
    " 'Salsabil',\n",
    " 'Hashemi',\n",
    " 'Razi',\n",
    " 'Shahrake Azadi',\n",
    " 'Golestan',\n",
    " 'Qasr-od-Dasht',\n",
    " 'Nawab',\n",
    " 'Javadiyeh',\n",
    " 'Jeyhoon',\n",
    " 'Abuzar',\n",
    " 'Enghelab',\n",
    " 'Eskandari',\n",
    " 'Qazvin Imamzadeh Hassan',\n",
    " 'Hor Square',\n",
    " 'Azarbaijan',\n",
    " 'Boloorsazi',\n",
    " 'Ray',\n",
    " 'Azari',\n",
    " 'Republic',\n",
    " 'Si Metri Ji',\n",
    " 'Valiasr',\n",
    " 'Sabalan',\n",
    " 'Tenant',\n",
    " 'Amirieh',\n",
    " 'Ostad Moein',\n",
    " 'Parastar',\n",
    " 'Afsarieh',\n",
    " 'Tehransar',\n",
    " 'Pirouzi',\n",
    " 'Majidieh',\n",
    " 'Tehran Now',\n",
    " 'Moniriyeh',\n",
    " 'East Pars',\n",
    " 'Southern Suhrawardi',\n",
    " 'Taslihat',\n",
    " 'nan',\n",
    " 'Narmak',\n",
    " 'Elm-o-Sanat',\n",
    " 'Persian Gulf Martyrs Lake',\n",
    " 'Sadeghieh',\n",
    " 'Shahrake Shahid Bagheri',\n",
    " 'Mehrabad River River',\n",
    " 'Dehkade Olampic',\n",
    " 'Air force',\n",
    " 'Railway',\n",
    " 'Hakimiyeh',\n",
    " 'Southern Program Organization',\n",
    " 'East Ferdows Boulevard',\n",
    " 'Haft Tir',\n",
    " 'Darakeh',\n",
    " 'West Ferdows Boulevard',\n",
    " 'Koohsar',\n",
    " 'Shahr-e-Ziba',\n",
    " 'ShahrAra',\n",
    " 'Shahran',\n",
    " 'Eram',\n",
    " 'Lavizan',\n",
    " 'Northren Jamalzadeh',\n",
    " 'Feiz Garden',\n",
    " 'Heshmatieh',\n",
    " 'Kazemabad',\n",
    " 'Southern Janatabad',\n",
    " 'Araj',\n",
    " 'Water Organization',\n",
    " 'Keshavarz Boulevard',\n",
    " 'Punak',\n",
    " 'Dezashib',\n",
    " 'Karimkhan',\n",
    " 'West Pars',\n",
    " 'Abbasabad',\n",
    " 'Northern Janatabad',\n",
    " 'Shams Abad',\n",
    " 'Central Janatabad',\n",
    " 'Azadshahr',\n",
    " 'North Program Organization',\n",
    " 'Ekbatan',\n",
    " 'Tarasht',\n",
    " 'Kook',\n",
    " 'Sattarkhan',\n",
    " 'Amir Bahador',\n",
    " 'Amirabad',\n",
    " 'Fatemi',\n",
    " 'Mirza Shirazi',\n",
    " 'Darband',\n",
    " 'Villa',\n",
    " 'Ozgol',\n",
    " 'Zibadasht',\n",
    " 'Gisha',\n",
    " 'Elahieh',\n",
    " 'Abazar',\n",
    " 'Zafar',\n",
    " 'Dorous',\n",
    " 'Aqdasieh',\n",
    " 'Northern Suhrawardi',\n",
    " 'Shahrakeh Naft',\n",
    " 'Mehran',\n",
    " 'Heravi',\n",
    " 'Yousef Abad',\n",
    " 'Saadat Abad',\n",
    " 'Ekhtiarieh',\n",
    " 'Marzdaran',\n",
    " 'Qalandari',\n",
    " 'Jordan',\n",
    " 'Mirdamad',\n",
    " 'Chidz',\n",
    " 'Darabad',\n",
    " 'Mahallati',\n",
    " 'Ajudaniye',\n",
    " 'Zargandeh',\n",
    " 'Farmanieh',\n",
    " 'Tajrish',\n",
    " 'Pasdaran',\n",
    " 'Gholhak',\n",
    " 'Seyed Khandan',\n",
    " 'Gheitarieh',\n",
    " 'Kamranieh',\n",
    " 'Niavaran',\n",
    " 'Shahrake Gharb',\n",
    " 'Hekmat',\n",
    " 'Ghoba',\n",
    " 'Mahmoudieh',\n",
    " 'Velenjak',\n",
    " 'Zaferanieh']\n",
    "oe = OrdinalEncoder(categories=[addr])\n",
    "\n",
    "not_null = mainData['Address'] != None\n",
    "md = mainData[['Address']][not_null]     \n",
    "md = md.astype({\"Address\": str})\n",
    "md_all = mainData[not_null]\n",
    "md_encoded = oe.fit_transform(md)\n",
    "\n",
    "# convert address to code\n",
    "li = []\n",
    "for i in range(len(md_encoded)):\n",
    "    li.append(int(md_encoded.tolist()[i][0]))\n",
    "md_all['Address_Encode'] = li\n",
    "\n",
    "\n",
    "print(max(md_encoded))\n",
    "print(len(md_encoded))\n",
    "print(len(md_all))\n",
    "md_all"
   ]
  },
  {
   "cell_type": "code",
   "execution_count": 1,
   "id": "6327f7c5",
   "metadata": {},
   "outputs": [
    {
     "ename": "NameError",
     "evalue": "name 'mainData' is not defined",
     "output_type": "error",
     "traceback": [
      "\u001b[1;31m---------------------------------------------------------------------------\u001b[0m",
      "\u001b[1;31mNameError\u001b[0m                                 Traceback (most recent call last)",
      "\u001b[1;32m<ipython-input-1-430fe7be9304>\u001b[0m in \u001b[0;36m<module>\u001b[1;34m\u001b[0m\n\u001b[1;32m----> 1\u001b[1;33m \u001b[0mmd_\u001b[0m \u001b[1;33m=\u001b[0m \u001b[0mmainData\u001b[0m\u001b[1;33m[\u001b[0m\u001b[0mnot_null\u001b[0m\u001b[1;33m]\u001b[0m\u001b[1;33m\u001b[0m\u001b[1;33m\u001b[0m\u001b[0m\n\u001b[0m\u001b[0;32m      2\u001b[0m \u001b[0mmd_\u001b[0m \u001b[1;33m=\u001b[0m \u001b[0mmd_\u001b[0m\u001b[1;33m.\u001b[0m\u001b[0mastype\u001b[0m\u001b[1;33m(\u001b[0m\u001b[1;33m{\u001b[0m\u001b[1;34m\"Address\"\u001b[0m\u001b[1;33m:\u001b[0m \u001b[0mstr\u001b[0m\u001b[1;33m}\u001b[0m\u001b[1;33m)\u001b[0m\u001b[1;33m\u001b[0m\u001b[1;33m\u001b[0m\u001b[0m\n",
      "\u001b[1;31mNameError\u001b[0m: name 'mainData' is not defined"
     ]
    }
   ],
   "source": [
    "md_ = mainData[not_null]\n",
    "md_ = md_.astype({\"Address\": str})"
   ]
  },
  {
   "cell_type": "code",
   "execution_count": 14,
   "id": "ff2c7fc0",
   "metadata": {},
   "outputs": [],
   "source": [
    "q = md_.groupby(md_['Address'])\n",
    "sorted_adr = q.mean().sort_values(by='Price(USD)')\n",
    "# sorted_adr.index.tolist()"
   ]
  },
  {
   "cell_type": "markdown",
   "id": "61dad20f",
   "metadata": {},
   "source": [
    "\n",
    "\n",
    "Here we sorted the addresses from 0 to 176 and in order of the average price.\n",
    "The chart below plots this information."
   ]
  },
  {
   "cell_type": "code",
   "execution_count": 16,
   "id": "5f8e8b88",
   "metadata": {
    "scrolled": true
   },
   "outputs": [
    {
     "data": {
      "image/png": "[encoded data removed]",
      "text/plain": [
       "<Figure size 432x288 with 1 Axes>"
      ]
     },
     "metadata": {
      "needs_background": "light"
     },
     "output_type": "display_data"
    }
   ],
   "source": [
    "xdata, y_data = (md_all['Address_Encode'], md_all[\"Price\"].values)\n",
    "ydata = y_data/max(y_data)\n",
    "plt.plot(xdata, ydata, 'ro')\n",
    "plt.ylabel('Price')\n",
    "plt.xlabel('Address')\n",
    "plt.show()"
   ]
  },
  {
   "cell_type": "code",
   "execution_count": 57,
   "id": "d33ff05f",
   "metadata": {},
   "outputs": [
    {
     "data": {
      "text/plain": [
       "<AxesSubplot:>"
      ]
     },
     "execution_count": 57,
     "metadata": {},
     "output_type": "execute_result"
    },
    {
     "data": {
      "image/png": "[encoded data removed]",
      "text/plain": [
       "<Figure size 432x288 with 2 Axes>"
      ]
     },
     "metadata": {
      "needs_background": "light"
     },
     "output_type": "display_data"
    }
   ],
   "source": [
    "sb.heatmap(md_all.corr())"
   ]
  },
  {
   "cell_type": "markdown",
   "id": "4ecf0411",
   "metadata": {},
   "source": [
    "# start math"
   ]
  },
  {
   "cell_type": "code",
   "execution_count": 77,
   "id": "3604ce00",
   "metadata": {},
   "outputs": [],
   "source": [
    "msk = np.random.rand(len(md_all)) < 0.8\n",
    "train = md_all[msk]\n",
    "test = md_all[~msk]"
   ]
  },
  {
   "cell_type": "code",
   "execution_count": 78,
   "id": "9b4162b5",
   "metadata": {},
   "outputs": [
    {
     "data": {
      "image/png": "[encoded data removed]",
      "text/plain": [
       "<Figure size 432x288 with 1 Axes>"
      ]
     },
     "metadata": {
      "needs_background": "light"
     },
     "output_type": "display_data"
    }
   ],
   "source": [
    "plt.scatter(train.Area/max(train.Area), train.Price/max(train.Price),  color='blue')\n",
    "plt.xlabel(\"Area\")\n",
    "plt.ylabel(\"Price\")\n",
    "plt.show()"
   ]
  },
  {
   "cell_type": "code",
   "execution_count": 72,
   "id": "52edfb03",
   "metadata": {
    "scrolled": true
   },
   "outputs": [
    {
     "data": {
      "text/plain": [
       "<AxesSubplot:xlabel='Area', ylabel='Price(USD)'>"
      ]
     },
     "execution_count": 72,
     "metadata": {},
     "output_type": "execute_result"
    },
    {
     "data": {
      "image/png": "[encoded data removed]",
      "text/plain": [
       "<Figure size 432x288 with 1 Axes>"
      ]
     },
     "metadata": {
      "needs_background": "light"
     },
     "output_type": "display_data"
    }
   ],
   "source": [
    "sb.histplot(train, x=\"Area\", y=\"Price(USD)\")"
   ]
  },
  {
   "cell_type": "code",
   "execution_count": 86,
   "id": "01a0f97d",
   "metadata": {},
   "outputs": [
    {
     "data": {
      "text/plain": [
       "<AxesSubplot:xlabel='Address_Encode', ylabel='Price(USD)'>"
      ]
     },
     "execution_count": 86,
     "metadata": {},
     "output_type": "execute_result"
    },
    {
     "data": {
      "image/png": "[encoded data removed]",
      "text/plain": [
       "<Figure size 432x288 with 1 Axes>"
      ]
     },
     "metadata": {
      "needs_background": "light"
     },
     "output_type": "display_data"
    }
   ],
   "source": [
    "sb.histplot(train, x=\"Address_Encode\", y=\"Price(USD)\")"
   ]
  },
  {
   "cell_type": "code",
   "execution_count": 84,
   "id": "83dc9b22",
   "metadata": {
    "scrolled": true
   },
   "outputs": [
    {
     "name": "stderr",
     "output_type": "stream",
     "text": [
      "<__array_function__ internals>:5: RuntimeWarning: Converting input from bool to <class 'numpy.uint8'> for compatibility.\n",
      "<__array_function__ internals>:5: RuntimeWarning: Converting input from bool to <class 'numpy.uint8'> for compatibility.\n"
     ]
    },
    {
     "data": {
      "text/plain": [
       "<AxesSubplot:xlabel='Parking', ylabel='Price(USD)'>"
      ]
     },
     "execution_count": 84,
     "metadata": {},
     "output_type": "execute_result"
    },
    {
     "data": {
      "image/png": "[encoded data removed]",
      "text/plain": [
       "<Figure size 432x288 with 1 Axes>"
      ]
     },
     "metadata": {
      "needs_background": "light"
     },
     "output_type": "display_data"
    }
   ],
   "source": [
    "sb.histplot(train, x=\"Parking\", y=\"Price(USD)\")"
   ]
  },
  {
   "cell_type": "code",
   "execution_count": 85,
   "id": "1266aeb6",
   "metadata": {
    "scrolled": true
   },
   "outputs": [
    {
     "name": "stderr",
     "output_type": "stream",
     "text": [
      "<__array_function__ internals>:5: RuntimeWarning: Converting input from bool to <class 'numpy.uint8'> for compatibility.\n",
      "<__array_function__ internals>:5: RuntimeWarning: Converting input from bool to <class 'numpy.uint8'> for compatibility.\n"
     ]
    },
    {
     "data": {
      "text/plain": [
       "<AxesSubplot:xlabel='Elevator', ylabel='Price(USD)'>"
      ]
     },
     "execution_count": 85,
     "metadata": {},
     "output_type": "execute_result"
    },
    {
     "data": {
      "image/png": "[encoded data removed]",
      "text/plain": [
       "<Figure size 432x288 with 1 Axes>"
      ]
     },
     "metadata": {
      "needs_background": "light"
     },
     "output_type": "display_data"
    }
   ],
   "source": [
    "sb.histplot(train, x=\"Elevator\", y=\"Price(USD)\")"
   ]
  },
  {
   "cell_type": "markdown",
   "id": "5fe7a421",
   "metadata": {},
   "source": [
    "## Modeling"
   ]
  },
  {
   "cell_type": "code",
   "execution_count": 79,
   "id": "661b08ba",
   "metadata": {},
   "outputs": [
    {
     "name": "stdout",
     "output_type": "stream",
     "text": [
      "Coefficients:  [[  1224.71251071   1096.56686966 -10750.94729006   4407.3330537 ]]\n",
      "Intercept:  [-100666.62783736]\n"
     ]
    }
   ],
   "source": [
    "from sklearn import linear_model\n",
    "regr = linear_model.LinearRegression()\n",
    "train_x = np.asanyarray(train[['Area','Address_Encode','Parking','Elevator']])\n",
    "train_y = np.asanyarray(train[['Price(USD)']])\n",
    "regr.fit (train_x, train_y)\n",
    "# The coefficients\n",
    "print ('Coefficients: ', regr.coef_)\n",
    "print ('Intercept: ',regr.intercept_)"
   ]
  },
  {
   "cell_type": "code",
   "execution_count": 80,
   "id": "def28731",
   "metadata": {
    "scrolled": true
   },
   "outputs": [
    {
     "name": "stdout",
     "output_type": "stream",
     "text": [
      "Residual sum of squares: 1010956275.48\n",
      "Variance score: 0.80\n"
     ]
    }
   ],
   "source": [
    "y_hat= regr.predict(test[['Area','Address_Encode','Parking','Elevator']])\n",
    "x = np.asanyarray(test[['Area','Address_Encode','Parking','Elevator']])\n",
    "y = np.asanyarray(test[['Price(USD)']])\n",
    "print(\"Residual sum of squares: %.2f\"\n",
    "      % np.mean((y_hat - y) ** 2))\n",
    "\n",
    "# Explained variance score: 1 is perfect prediction\n",
    "print('Variance score: %.2f' % regr.score(x, y))"
   ]
  }
 ],
 "metadata": {
  "kernelspec": {
   "display_name": "Python 3",
   "language": "python",
   "name": "python3"
  },
  "language_info": {
   "codemirror_mode": {
    "name": "ipython",
    "version": 3
   },
   "file_extension": ".py",
   "mimetype": "text/x-python",
   "name": "python",
   "nbconvert_exporter": "python",
   "pygments_lexer": "ipython3",
   "version": "3.8.8"
  }
 },
 "nbformat": 4,
 "nbformat_minor": 5
}
